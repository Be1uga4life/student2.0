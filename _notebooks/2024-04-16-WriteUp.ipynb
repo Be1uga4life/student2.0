{
 "cells": [
  {
   "cell_type": "markdown",
   "metadata": {},
   "source": [
    "---\n",
    "comments: true\n",
    "layout: post\n",
    "title: Data Structure Write Up\n",
    "type: hacks\n",
    "courses: { compsci: {week: 26} }\n",
    "---"
   ]
  },
  {
   "cell_type": "markdown",
   "metadata": {},
   "source": [
    "# Collections\n",
    "\n",
    "- Blog Python API code and use of List and Dictionaries.\n",
    "\n",
    "- This is code that initializes our own database to store the images"
   ]
  },
  {
   "cell_type": "code",
   "execution_count": null,
   "metadata": {},
   "outputs": [],
   "source": [
    "def initSongs():\n",
    "    with app.app_context():\n",
    "\n",
    "        db.create_all()\n",
    "\n",
    "        \n",
    "\n",
    "        songs_data = [\n",
    "    {'name': 'FEIN', 'url': '/audios/FEIN.mp3', 'description': 'Travis Scott_', 'uri': 'data:image/jpeg;base64,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', 'tokens':'1'},\n",
    "    {'name':'Creepin', 'url':'/audios/CREEP.mp3', 'description':'The Weeknd', 'uri':'https://i1.sndcdn.com/artworks-sWl8wb2Zk1xthx3m-39RYRQ-t500x500.jpg', 'tokens':'2'},\n",
    "    {'name':'Role Model', 'url':'', 'description':' Brent Fiaiyaz', 'uri':'https://i1.sndcdn.com/artworks-O2SRR9SCgyRq4u4v-eAojjA-t500x500.jpg', 'tokens':'4'},\n",
    "    {'name':'Right my Wrongs', 'url':'', 'description':' Bryson Tiller', 'uri':'https://i.scdn.co/image/ab67616d0000b273d5f3cea8affdca01a0dc754f', 'tokens':'5'},\n",
    "    {'name':'Roar', 'url':'', 'description':' Katy Perry', 'uri':'https://encrypted-tbn0.gstatic.com/images?q=tbn:ANd9GcT_Y92S1N976xSO57PbyPinyoJ8IVnqGPFhLQ&usqp=CAU', 'tokens':'6'},\n",
    "    {'name':'Shake it Off', 'url':'/audios/SHAKE.mp3', 'description':' Taylor Swift', 'uri':'https://pyxis.nymag.com/v1/imgs/2d9/6f5/3f8dbd63613637b7843e4653ff548503b9-tay--.w710.jpg', 'tokens':'9'},\n",
    "    {'name':'Often', 'url':'/audios/OFTEN.mp3', 'description':' The Weeknd_', 'uri':'https://cdns-images.dzcdn.net/images/cover/eea9f7fc913300e40307a0ff70dc73cf/350x350.jpg', 'tokens':'8'},\n",
    "    {'name':'Thank God', 'url':'', 'description':' Travis Scott', 'uri':'data:image/jpeg;base64,/9j/4AAQSkZJRgABAQAAAQABAAD/2wCEAAkGBw0NDQ0NDg0NDQ0NDQ4NDQ0ODQ8ODQ0OFhEWFhURFRUYHSghGBomGxUVITEhJSkrLi4uFx8zODMwNygtLysBCgoKDg0OFxAQFy0eHR0rKy0rKy0tLS0rKy0rLS0rLS0tLSstLS0tLS0tLS0tLSstLS0rLTctLSstLS0tLSs3K//AABEIAOEA4QMBIgACEQEDEQH/xAAbAAEBAAIDAQAAAAAAAAAAAAAAAQMFAgQGB//EAD0QAAICAQMCBAMEBggHAAAAAAABAgMRBBIhBTETQVFhBiJxMkJSgRQjkbHR8AczYnKCk6HBFRZDVKKy0v/EABcBAQEBAQAAAAAAAAAAAAAAAAABAgP/xAAcEQEBAQACAwEAAAAAAAAAAAAAARESQQIhMVH/2gAMAwEAAhEDEQA/APigAKoAQCgAAAAAAAAACFIUAAQCgEAFAAAAAAAAAAAAAQAAUAAAAAAAAAAAAAAAAhQABAKAQCgAAQoAAAAAAAAAEKQCghQAAAAACFAAAAAAAAIUAAAABAKQoAAEAoIUAAAAAAEKQAUAAAAAAAAAACACghQAIUCFIUAAQCgAAAAAAAAAAAAICkAoAAAgAoAAJZaXm+Ec3Da2pd8eXPOOEcDJuykscrP5r0A4CSDXp+wSA4gAAUhQAAAAEAoAAAEAoAAAAAAABAAKAABCgAAAATBAOQkRdigcQAAKAAIUACFIBQQoAhQAAAAAAAAAAAAAAACAUAAAAARUQBFnHDwcTsWRzFPzRgCoAUCFAAAAACHOFUpdl+5AcQZJaexc7JY9Uty/0MbWAAAAAAAAAABAKAAABAKAAAAAAADs6dpvDLrdK4Ymvsvh+zMUF2PS6fTxvp2v7yaXruRFjyhTnfU65yhLvF4+vuYyooIAKAEAM9M8Psn+RhwZo7oxjJSall9uGkQj6N0XSdKt6LrNRdF06rT027WntjbY44rg49nmTivXk8r1zoNldNN+PmdUd8cNNwUFtl9cLt7GTS9QsuVGjlKM61bC2U+U7IxhKXhyS+1z5900d7qnUvFeyUVFxs3YTeGvtNfXCKWdvFAs0k2o/Zy1H1xnggAAAAAAIABQAAAIBQAAAAAAAc65eXuen6TYo1yk5NJdmucNNM8obPTa3FFkH5uP5Eqyu58U0xbr1EEvmW2zHZPun9HzyaE3fTeobJx3rdDGHF9mv4DrfS4LN+mj+q5c6087P7S/s+3kSVbO2kBAaZUAIAd6DnOEFKUJ7X8sV/WY/B6+/wDLOmln+Jm0stsoyTeV/LIRuug9Unp7swjDMk4fMlJL0f8APuY+oayE77bPklGW5ONblDw+eZ9vxqOO+cGqjZLL29329snO3XWeF+jqX6vc5NJLmWOefJcdg1rpIoBWQG56X8La/V1u2ijdDOE5SUN3GeM9zrdS6FrdJj9I01tSaypOO6GP70comxcrXgAqICkAoIUAAAIUAAAAAAADIAHOFmOPI7vT+pSqeH80fL2NeQmGtp1PRV7FqKJRdcnida+1VL+H7jWxhKWcRlLHfEW8fsOdWolGMo8NTWGn+89b8FdXjiWlsaUZ8QWIpZxwucD41JLXjSnoviHpihfunDw1N+qSk/qY6+kUyinmSbJpwrRJnJT+h6Xqnwo6KYWuUk5pOCltxNN+WHkwaX4VunjduWe2I5LsONaOFmOfPnBl6d06/VWKumuU5N4bS+WPu2e20H9H+F42onJVRTk/lxlL3Z6HSavQ6SpR08q8ecm488epLVnj+tBo/g7Q1vZqVqbZRS8SdcsVwb9ks447njuvUaerVWQ0zlKiMltcpbn784PQ/Ffxtfqc6ep7KY5TcePE+p41vPImp5WdPXV/G1tFUadPGK2rClJeX0NV1H4g1F6fiWOdk1idj8l+GK8l+80pk09TsnCtYTnJRTk8RTbxlv0LkTlXAG76n8K63TR3yrjbXjO+iXiLHrjCf+hpBqZgQoKAIUAAAAAAAAAAAAAAgKALCG54XfyWG236L3OxqdLfpZxVtc6ptKcVLzXqjBVNxkpLummbzrXUnqatPGa3Srba9ljsRZGO/qluojUrXlQxs4835mz6XqFCyMliW1rCfOTRztw9uVteHlJZx/set+FIaevc7YOblBz34T8NRecLPZszXWNj174kt1FmlqniMNPOXhSqrq+V4Sy2uMrD/aemVcKtJG5pqazJzTzLLfdx7M826NG4LUyrsTlOTsjFZqqeGvr2Zh1HWISlFaack1Haofag1/Aithr/AIxndH9H2OHGPEhzCS94vseU6otPXW64RSj3ynxk760MoKy2+5JyeYwqSak/R57HlutWvd349CxL6auzGXg4AG3AOxGFTjxKcbF64cH9GuV/qdcAbvRfEeqoShvcoLybz6+f5s4Wwr1tsfD2U32N5T+Sqyff/C36+vf1NQE2mmuGmmvZkxrk2/8Ayzr/APt3/m0//QOn42p/Fd/5gqenTKQoAAAAQoAAAAAAAIAKABDJB54bFFUrJRhFZlJ4Xp9WZ4RjCCbXzTXf8KIsZ+maXxrYx/az6HpPBq07qilltb5cfkv3v8j5107Uuu1S5flhG+1PUGtrnFRco5iuzb91kzY6eNxtPiXrCpXhUOPzpbku2PTB5yi2MGpStlTnmTgsy+i9GY5WtvO3dNvjLN3pelR8B2WxTlJNvK4/L2Hw+tLqviK+17Z2ytgn8rnjdjyzg1F9jnJv1MnUNqskorCTOsakc7aHNIkUcisuLRMHIAcAcsEwBn/Spfis/wA2QOuAKAAoAAAAAAAAAAAAAgKd7pWkVkt81J1VygmkvtzeWq89llRly/QDYw6XLT6Si6SmrtbvlCK3KVWljhxsaxxuklz+HD+8s9SzW7vmlz8soYjWsbWvt+zzny4wfXvg/wCCK9botZ+m3SjF1uPiwk63pbIYacecbYrdlPvn6M+U6/S+FLU1R1FWojp7FXG2NTjXdXKXE9ko5TTTyn6Pl8ZiutXLxE5SfzYioxi5KpNqTTlHHZ4iu/nz7c9NbTicp7pWJNtpvEl6uWGufTg7tHSp7nhwqtUbZJTg5VS25i+VlJZzjHHC9ka6+vMUtkKrFmLUJZwk2tvs+Hxl9/cGt70PqOkTSzGFvO1XbYQXvu8/ouWdPrXxDOblCEt0eykliP1R52yL4z+3Hf8AicRhzuDeXlnJIJFKypAAIDNpNLbfPw6oOyey2zasZ2V1ysm+fSMZP8js1dE1k9u3Tze6zTVR5gszvqdtK5f3oJyz6AdAh3pdI1SjGTpklOivUwy4ZnRZb4UJxWctObUeDBrNHbRJRtg65PfhPH3LJVy7ekoSX5AYCFIFUAAAAAAAAAAAAAAM+lphKX6yThCPMsLMn7L0+oGDB7fodOno6evHhG6vUuUnW521LcuNzcGpcbku/wB198nlL761PFa/VrGE13OHiyimtz2Se6L9HlMlJcfY/h74zst0XUdLKUI7a5W/pFajXN17XF1uL7vEU1NfiXGFl/IbNZZHhWRxB4Sl80nmLz5Y/b7HXq1Lipx+7NLKwll4aT/ZKRiqm4NSWMxfGVkGtxDqVzg1esprMWmqZyXCcW48rK88duOzRrNW257tihujFpLs/lWWmv8AY4Z5XzY+9nGWnnnPb6+ff3Zx3vlL7L8n6eQQ3See7z37sJfz7nEqXr6cfz9CjkCAAAAPoP8ARN06rUPWOelhqZxu6ZWt1e916ezUOOqePJOlWJn0TS9BjmGNFwoa+7e9Nsas00qqtLFfKuYxtsjB99tXGeW/gfTNWtPfC51V3qCmnVak657oOPzLHK5z+Rs18RQTjJdP0SlFLD8OPOOIv7Pol+fPsQfZuofD9aWKdE3OEesUwl+iYjCFKlZpFFuviMbFXtTTUnn7eFI81/Sf0WFXSI6mVEIWyu6c4vwtk6526eyepWcfesWX7nzzS/EEKqY1f8P0M5KLi7Z1Rc38kI98f2W/PmUvU6PVOoLUOGKKaFBf9KKTl+rrhmWEst+G5N+s5AdEAFVSAAAABSAAUEAFBAB2+l/1q+jMGo7r6AAYzM/6v/EgAjCEABCgAGcp91/dh/6IACFIAKQAAAABAAoAAj//2Q==', 'tokens':'9'},\n",
    "    {'name':'God Did ', 'url':'', 'description':' DJ Khalid', 'uri':'https://upload.wikimedia.org/wikipedia/en/0/0a/DJ_Khaled_-_God_Did.png', 'tokens':'10'},\n",
    "    {'name':'Badtameez Dil', 'url':'', 'description':' Yeh Jawaani Hai Deewani', 'uri':'https://m.media-amazon.com/images/M/MV5BNWIxZWU1YzAtYTc4NS00NTM4LWJmODgtYzEwNTE0NmJiYzI4XkEyXkFqcGdeQXVyODk2ODI3MTU@._V1_UX200_CR0,0,200,200_AL_.jpg', 'tokens':'11'},\n",
    "    {'name':'Same Old Love', 'url':'', 'description':' Selena Gomez', 'uri':'https://upload.wikimedia.org/wikipedia/en/b/b3/Same_Old_Love_by_Selena_Gomez.png', 'tokens':'12'},\n",
    "    {'name':'Waka Waka ', 'url':'', 'description':' Shakira', 'uri':'https://photos.prnewswire.com/prnfull/20100901/NY58538-a', 'tokens':'13'},\n",
    "    {'name':'Swim', 'url':'', 'description':' Chase Atlantic ', 'uri':'https://i.ytimg.com/vi/ykP640XEjSQ/maxresdefault.jpg', 'tokens':'14'},\n",
    "    {'name':'Fireside', 'url':'', 'description':' Arctic Monkeys', 'uri':'https://i.ytimg.com/vi/PG8yTUeptFU/maxresdefault.jpg', 'tokens':'15'},\n",
    "    {'name':'Daddy Issues', 'url':'', 'description':' The Neighborhood', 'uri':'https://i.scdn.co/image/ab67616d0000b2733066581d697fbdee4303d685', 'tokens':'16'},\n",
    "    {'name':'Art Deco', 'url':'', 'description':'Lana Del Rey ', 'uri':'https://i1.sndcdn.com/artworks-000144834419-kkxrj8-t500x500.jpg', 'tokens':'17'},\n",
    "    {'name':'The Color Violet', 'url':'/audios/COLOR.mp3', 'description':' Tory Lanez ', 'uri':'https://i1.sndcdn.com/artworks-XTdw6XGAR3WX-0-t500x500.jpg', 'tokens':'18'},\n",
    "    {'name':'Light it Up', 'url':'', 'description':' Major Lazer', 'uri':'https://i.ytimg.com/vi/r2LpOUwca94/maxresdefault.jpg', 'tokens':'19'},\n",
    "    {'name':'Maneater', 'url':'', 'description':' Nelly Furtado ', 'uri':'https://upload.wikimedia.org/wikipedia/en/5/56/Maneater_%28Nelly_Furtado_single_-_cover_art%29.png', 'tokens':'20'},\n",
    "    {'name':'Dark Horse', 'url':'', 'description':' Katy Perry ', 'uri':'https://static.independent.co.uk/s3fs-public/thumbnails/image/2014/02/26/10/katy-perry-dark-horse-v2.jpg', 'tokens':'21'},\n",
    "    {'name':'Watch', 'url':'', 'description':' Billie Eilish ', 'uri':'https://thomasbleach.files.wordpress.com/2017/07/billie.jpg', 'tokens':'22'},\n",
    "    {'name':'Eyes Without Face', 'url':'', 'description':' Billy Idol ', 'uri':'https://i.ytimg.com/vi/e7U1YZNgwnY/maxresdefault.jpg', 'tokens':'23'},\n",
    "    {'name':'Good Days', 'url':'', 'description':' SZA', 'uri':'https://upload.wikimedia.org/wikipedia/en/7/7c/SZA_-_Good_Days.png', 'tokens':'24'},\n",
    "    {'name':'sdp interlude', 'url':'', 'description':'Travis Scott ', 'uri':'https://i.scdn.co/image/ab67616d0000b273f54b99bf27cda88f4a7403ce', 'tokens':'25'},\n",
    "    {'name':'Mary', 'url':'', 'description':' Alex G ', 'uri':'https://i.scdn.co/image/ab67616d0000b273c85ca3b845a922baff3041c7', 'tokens':'26'},\n",
    "    {'name':'Flashing Lights', 'url':'', 'description':'Kanye West ', 'uri':'https://i.scdn.co/image/ab67616d0000b27326f7f19c7f0381e56156c94a', 'tokens':'27'},\n",
    "    {'name':'Trust issues', 'url':'', 'description':'Drake', 'uri':'https://i1.sndcdn.com/artworks-QHAz47bKkwaj-0-t500x500.jpg', 'tokens':'28'},\n",
    "    {'name':'Gods Plan', 'url':'', 'description':'Drake ', 'uri':'https://i.ytimg.com/vi/m1a_GqJf02M/maxresdefault.jpg', 'tokens':'29'},\n",
    "    {'name':'Time to Pretend', 'url':'', 'description':'MGMT ', 'uri':'https://i.scdn.co/image/ab67616d0000b2738b32b139981e79f2ebe005eb', 'tokens':'30'},\n",
    "    {'name':'Sensei Wu', 'url':'/audios/WU.mp3', 'description':' Ian Wu Father ', 'uri':'https://m.media-amazon.com/images/I/51Zl1Tdk3YL._AC_UF894,1000_QL80_.jpg', 'tokens':'31'},\n",
    "    ]\n",
    "\n",
    "        \n",
    "        # iterate\n",
    "        for song_data in songs_data:\n",
    "            existing_song = Song.query.filter_by(_name=song_data['name']).first()\n",
    "            # If user exists, print a message and update user data\n",
    "            if existing_song:\n",
    "                print(f\"User with _uid '{song_data['name']}' already exists. Updating user data.\")\n",
    "                existing_song.update(\n",
    "                    name=song_data['name'],\n",
    "                    url=song_data['url'],\n",
    "                    uri=song_data['uri'],\n",
    "                )\n",
    "                # If user does not exist, create a new user and add to the database\n",
    "            else:\n",
    "                new_song = Song(\n",
    "                    name=song_data['name'],\n",
    "                    url=song_data['url'],\n",
    "                    description=song_data['description'],\n",
    "                    uri=song_data['uri'],\n",
    "                    tokens=song_data['tokens']   \n",
    "                )\n",
    "                db.session.add(new_song)\n",
    "        db.session.commit()\n",
    "        "
   ]
  },
  {
   "cell_type": "markdown",
   "metadata": {},
   "source": [
    "- From VSCode using SQLite3 Editor, show your unique collection/table in database, display rows and columns in the table of the SQLite database.\n",
    "    - This is the data table of all of the stored songs\n",
    "![Image1](https://media.discordapp.net/attachments/1219822341719068672/1230716807275614208/Screenshot_2024-04-18_at_11.30.36_AM.png?ex=66345558&is=6621e058&hm=7017fdd993c59dff0d2a1d577fe41500c8ee797e20e8c307c81b0d322c075c56&=&format=webp&quality=lossless&width=1688&height=1306)\n",
    "\n",
    "- From VSCode model, show your unique code that was created to initialize table and create test data.\n",
    "    -   Uses two normal and 1 admin account as instructed\n",
    "\n"
   ]
  },
  {
   "cell_type": "code",
   "execution_count": null,
   "metadata": {},
   "outputs": [],
   "source": [
    "# Builds working data for testing\n",
    "def initUsers():\n",
    "    with app.app_context():\n",
    "        \"\"\"Create database and tables\"\"\"\n",
    "        db.create_all()\n",
    "        \"\"\"Tester data for table\"\"\"\n",
    "        u1 = User(name='erox', uid='1', password='123erox', points=\"0\", usertype=\"Admin\")\n",
    "        u2 = User(name='saaras', uid='2', password='123saaras', points=\"0\", usertype=\"User\")\n",
    "        u3 = User(name='sri', uid='3', password='123sri', points=\"0\", usertype=\"User\")\n",
    "        u4 = User(name='austin', uid='4', password='123austin', points=\"0\", usertype=\"User\")\n",
    "        users = [u1, u2, u3, u4]\n",
    "\n",
    "        \"\"\"Builds sample user/note(s) data\"\"\"\n",
    "        for user in users:\n",
    "            try:\n",
    "                '''add a few 1 to 4 notes per user'''\n",
    "                for num in range(randrange(1, 4)):\n",
    "                    note = \"#### \" + user.name + \" note \" + str(num) + \". \\n Generated by test data.\"\n",
    "                    user.posts.append(Post(id=user.id, note=note, image='ncs_logo.png'))\n",
    "                '''add user/post data to table'''\n",
    "                user.create()\n",
    "            except IntegrityError:\n",
    "                '''fails with bad or duplicate data'''\n",
    "                db.session.remove()\n",
    "                print(f\"Records exist, duplicate email, or error: {user.uid}\")\n",
    "            "
   ]
  },
  {
   "cell_type": "markdown",
   "metadata": {},
   "source": [
    "- In VSCode using Debugger, show a list as extracted from database as Python objects.\n",
    "    - This shows the user data object being extracted in the debugger after a postman request\n",
    "![Image1](https://media.discordapp.net/attachments/1219822341719068672/1230716807652970496/Screenshot_2024-04-18_at_11.43.01_AM.png?ex=662331d8&is=6621e058&hm=283c9f3c80c910959736c6bb2e7806cf8c32563f8e1e73570b91f75c445179b7&=&format=webp&quality=lossless&width=1536&height=1306)\n",
    "\n",
    "- In VSCode use Debugger and list, show two distinct example examples of dictionaries, show Keys/Values using debugger.\n",
    "    - This is the data for the spotify songs\n",
    "![Codeimage](https://media.discordapp.net/attachments/1219822341719068672/1230716807275614208/Screenshot_2024-04-18_at_11.30.36_AM.png?ex=66345558&is=6621e058&hm=7017fdd993c59dff0d2a1d577fe41500c8ee797e20e8c307c81b0d322c075c56&=&format=webp&quality=lossless&width=1688&height=1306)\n",
    "\n",
    "    - This is the data for the users that are allowed to login\n",
    "![Codeimage](https://media.discordapp.net/attachments/1219822341719068672/1230718653755031582/Screenshot_2024-04-18_at_8.16.28_PM.png?ex=66345710&is=6621e210&hm=ae3845c910d124b5a2c7e15b960be88d9cdd0abd511d0dbe982a1f2424b22520&=&format=webp&quality=lossless&width=1350&height=448)\n",
    "\n",
    "# APIS and JSON\n",
    "\n",
    "Blog Python API code and use of Postman to request and respond with JSON.\n",
    "\n",
    "- In VSCode, show Python API code definition for request and response using GET, POST, UPDATE methods. Discuss algorithmic condition used to direct request to appropriate Python method based on request method.\n",
    "    - The API has many CRUD definitions for GET POST and UPDATE responses for modifiying objects\n",
    "    - A resource needs to be defined in order to create enpoints\n",
    "    - This code is defining the end point for the user api that allows for GET POST and PUT responses\n",
    "    "
   ]
  },
  {
   "cell_type": "code",
   "execution_count": null,
   "metadata": {},
   "outputs": [],
   "source": [
    "    # building RESTapi endpoint\n",
    "    api.add_resource(_CRUD, '/')\n",
    "    api.add_resource(_Security, '/authenticate')"
   ]
  },
  {
   "cell_type": "markdown",
   "metadata": {},
   "source": [
    "- In VSCode, show algorithmic conditions used to validate data on a POST condition.\n",
    "    - Algorithmic requirements guarantee the validity of input data. The condition integrated into the user code validates the password's security by cheking its minimum length and confirming the presence of both a name and a password.\n",
    "    "
   ]
  },
  {
   "cell_type": "code",
   "execution_count": null,
   "metadata": {},
   "outputs": [],
   "source": [
    "            # validate name\n",
    "            name = body.get('name')\n",
    "            if name is None or len(name) < 2:\n",
    "                return {'message': f'Name is missing, or is less than 2 characters'}, 400\n",
    "            # validate uid\n",
    "            uid = body.get('uid')\n",
    "            if uid is None or len(uid) < 2:\n",
    "                return {'message': f'User ID is missing, or is less than 2 characters'}, 400"
   ]
  },
  {
   "cell_type": "markdown",
   "metadata": {},
   "source": [
    "- In Postman, show URL request and Body requirements for GET, POST, and UPDATE methods.\n",
    "- In Postman, show the JSON response data for 200 success conditions on GET, POST, and UPDATE methods.\n",
    "    - The 200 GET Request:\n",
    "![Image1](https://cdn.discordapp.com/attachments/1230774473809203210/1231801694455599214/image.png?ex=663847b9&is=6625d2b9&hm=494b4a5e5f0458c8d3bd93378a538d98bad7a8c02fe17611089850aca8fa2906&)\n",
    "\n",
    "    - The 200 POST Request\n",
    "![Image1](https://cdn.discordapp.com/attachments/1230774473809203210/1231817374731075624/image.png?ex=66385654&is=6625e154&hm=41a87c4e1a38bd3dac5fab8f657dcd5552f08d055859ae79a86a2cad50a19d88&)\n",
    "\n",
    "- In Postman, show the JSON response for error for 400 when missing body on a POST request.\n",
    "    - When the body is missing, there is no JSON data to send which is the point of a POST\n",
    "![Image1](https://cdn.discordapp.com/attachments/1230774473809203210/1231817588913213520/image.png?ex=66385687&is=6625e187&hm=2587b4c95a0b4a3bd51d5c23e56de61e36d43aa056977d0cd59809f709a8819e&)\n",
    "\n",
    "- The 404 PUT Request\n",
    "    - When the song id can't be found, a 404 error is returned with a message informing the user that the song wasn't found\n",
    "![Image1](https://cdn.discordapp.com/attachments/1230774473809203210/1231817763241332776/image.png?ex=66273330&is=6625e1b0&hm=6894028c193a9883960c1b220a593d4fe45c31c588a07898de8e5fddcb9982f1&)\n",
    "\n"
   ]
  },
  {
   "cell_type": "markdown",
   "metadata": {},
   "source": [
    "# Frontend\n",
    "\n",
    "- In Chrome inspect, show response of JSON objects from fetch of GET, POST, and UPDATE methods.\n",
    "![image.png](https://cdn.discordapp.com/attachments/1230774473809203210/1230776967113080884/image.png?ex=66348d5f&is=6622185f&hm=91d1ebf1ad4c39a1ec99d7ac236413089f4ce5369ccf8edf96e740ca32ba2819&)\n",
    "\n",
    "- In the Chrome browser, show a demo (GET) of obtaining an Array of JSON objects that are formatted into the browsers screen.\n",
    "    - This formats all the json objects into squares (the songs)\n",
    "![Codeimage](https://media.discordapp.net/attachments/1219822341719068672/1230716808256815205/Screenshot_2024-04-18_at_12.15.09_PM.png?ex=66345558&is=6621e058&hm=8e4a0fa3d5517f82dcf9f2938c191d9b815df23a1d6dd928a575d452cdcbbe53&=&format=webp&quality=lossless&width=1350&height=814)\n",
    "    - See code down below"
   ]
  },
  {
   "cell_type": "code",
   "execution_count": null,
   "metadata": {},
   "outputs": [],
   "source": [
    "async function fetchData() {\n",
    "    try {\n",
    "        const response = await fetch('http://127.0.0.1:8086/api/song/all');\n",
    "        const songsData = await response.json();\n",
    "        \n",
    "        const container = document.getElementById(\"albumList\");\n",
    "        \n",
    "        // Map through the list and create song cards\n",
    "        songsData.forEach((song) => {\n",
    "        const itemBlock = createItemBlock(song);\n",
    "        container.appendChild(itemBlock);\n",
    "    });\n",
    "    } catch (error) {\n",
    "        console.error('Error fetching data:', error);\n",
    "    }\n",
    "  }\n",
    "\n",
    "##################################### END OF GET DATA #####################################################\n",
    "\n",
    "function createItemBlock(data) {\n",
    "  const item = document.createElement(\"div\");\n",
    "  item.classList.add(\"item\");\n",
    "\n",
    "  const img = document.createElement(\"img\");\n",
    "  img.src = data._uri; \n",
    "  item.appendChild(img);\n",
    "  \n",
    "  const play = document.createElement(\"div\");\n",
    "  play.classList.add(\"play\");\n",
    "  const playIcon = document.createElement(\"span\");\n",
    "  playIcon.classList.add(\"fa\", \"fa-play\");\n",
    "  \n",
    "  \n",
    "  let isPlaying = false;\n",
    "  let audioPlayer;\n",
    "  \n",
    "  playIcon.addEventListener(\"click\", () => {\n",
    "  console.log(data._uri)\n",
    "}"
   ]
  },
  {
   "cell_type": "markdown",
   "metadata": {},
   "source": [
    "\n",
    "- In JavaScript code, describe fetch and method that obtained the Array of JSON objects.\n",
    "    - The Top Function:\n",
    "        -  A request is sent out to the URL containing the dictionary of songs\n",
    "        - The dictionary is piped into a variable, and the dictionary is iterated through creating a itemblock for each item\n",
    "    - The Bottom function\n",
    "        - Just a demonstration of how the blocks are created via JQuery\n",
    "        - A div is created, and within the div is an image and icon which is clickable"
   ]
  },
  {
   "cell_type": "markdown",
   "metadata": {},
   "source": [
    "- In the Chrome browser, show a demo (POST or UPDATE) gathering and sending input and receiving a response that show update. Repeat this demo showing both success and failure.\n",
    "    - Before song upload (POST) command:\n",
    "![image1](https://cdn.discordapp.com/attachments/1230774473809203210/1231821344983879730/image.png?ex=66385a06&is=6625e506&hm=a43cd5ac151a9db2f76effaebd556dbeac060d5c0812115bc077713ca16ce7ac&)\n",
    "    - After song upload (POST) command:\n",
    "![image1](https://cdn.discordapp.com/attachments/1230774473809203210/1231821711163523112/image.png?ex=66385a5e&is=6625e55e&hm=c98900c77236441cb2dafa36c7c748af16a3482a468c2448c1b5c76f07e26fc9&)\n",
    "\n"
   ]
  },
  {
   "cell_type": "code",
   "execution_count": null,
   "metadata": {
    "vscode": {
     "languageId": "javascript"
    }
   },
   "outputs": [],
   "source": [
    "async function fetchData() {\n",
    "    try {\n",
    "        const response = await fetch('http://127.0.0.1:8086/api/song/all');\n",
    "        const songsData = await response.json();\n",
    "        \n",
    "        const container = document.getElementById(\"albumList\");\n",
    "        \n",
    "        // Map through the list and create song cards\n",
    "        songsData.forEach((song) => {\n",
    "        const itemBlock = createItemBlock(song);\n",
    "        container.appendChild(itemBlock);\n",
    "    });\n",
    "    } catch (error) {\n",
    "        console.error('Error fetching data:', error);\n",
    "    }\n",
    "    }\n",
    "   \n",
    "    let loggedIn = sessionStorage.getItem(\"loggedIn\") || \"0\";\n",
    "   \n",
    "    // Function to toggle the display of the login button\n",
    "    function toggleLoginButton() {\n",
    "        const loginButton = document.getElementById(\"loginButton\");\n",
    "        loginButton.style.display = loggedIn === \"1\" ? \"none\" : \"block\";\n",
    "    }\n",
    "    // Call the function on page load to set the initial state\n",
    "    \n",
    "    // Load data when the page is loaded\n",
    "        window.onload = function () {\n",
    "        toggleLoginButton();\n",
    "        fetchData();\n",
    "        document.getElementById(\"albumList\").addEventListener(\"click\", redirectToSongPageContainer);\n",
    "    };\n",
    "   \n",
    "    function redirectToSongPage(songName, songUrl, songDescription, data) { //THIS IS THE FUNCTIOANSDIJAISJDOIAJSDIO\n",
    "        // Store the song name and URL in sessionStorage\n",
    "        sessionStorage.setItem('currentSongName', songName);\n",
    "        sessionStorage.setItem('currentSongUrl', songUrl);\n",
    "        sessionStorage.setItem('currentSongDescription', songDescription);\n",
    "        \n",
    "        console.log(songName)\n",
    "        console.log(songDescription)\n",
    "        // Log the data to the console\n",
    "        // Redirect to the song.html page\n",
    "        window.location.href = 'song.html';\n",
    "    }"
   ]
  },
  {
   "cell_type": "markdown",
   "metadata": {},
   "source": [
    "- In JavaScript code, show and describe code that handles success. Describe how code shows success to the user in the Chrome Browser screen.\n",
    "    - In the case that the backend successfully adds the text to the image, the frontend will display the song blocks, indicating success\n",
    "    - The user will additionally be able to play the songs\n",
    "\n",
    "- In JavaScript code, show and describe code that handles failure. Describe how the code shows failure to the user in the Chrome Browser screen. \n",
    "    - If something goes wrong with the API, the user is alerted with the error raised by the Backend"
   ]
  },
  {
   "cell_type": "markdown",
   "metadata": {},
   "source": [
    "\n",
    "<script src=\"https://utteranc.es/client.js\"\n",
    "        repo=\"imaad08/student2\"\n",
    "        issue-term=\"pathname\"\n",
    "        theme=\"github-dark\"\n",
    "        crossorigin=\"anonymous\"\n",
    "        async>\n",
    "</script>"
   ]
  },
  {
   "cell_type": "markdown",
   "metadata": {},
   "source": []
  }
 ],
 "metadata": {
  "language_info": {
   "name": "python"
  }
 },
 "nbformat": 4,
 "nbformat_minor": 2
}
