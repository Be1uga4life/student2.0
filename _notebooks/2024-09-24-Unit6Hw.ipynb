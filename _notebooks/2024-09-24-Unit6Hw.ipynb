{
 "cells": [
  {
   "cell_type": "markdown",
   "metadata": {},
   "source": [
    "---\n",
    "layout: post\n",
    "title: Unit 6\n",
    "description: Unit 6 Homework\n",
    "categories: [Collaboration]\n",
    "courses: { csse: {week: 3}, csp: {week: 3}, csa: {week: 2} }\n",
    "permalink: /Unit6\n",
    "type: collab\n",
    "comments: true\n",
    "---"
   ]
  },
  {
   "cell_type": "markdown",
   "metadata": {},
   "source": [
    "6.1 Popcorn Hack #1"
   ]
  },
  {
   "cell_type": "code",
   "execution_count": 1,
   "metadata": {
    "vscode": {
     "languageId": "java"
    }
   },
   "outputs": [],
   "source": [
    "String[] cityArray = {\"San Diego\", \"Los Angeles\", \"San Francisco\", \"Sacramento\"};"
   ]
  },
  {
   "cell_type": "code",
   "execution_count": 2,
   "metadata": {
    "vscode": {
     "languageId": "java"
    }
   },
   "outputs": [
    {
     "name": "stdout",
     "output_type": "stream",
     "text": [
      "San Diego\n",
      "San Francisco\n"
     ]
    }
   ],
   "source": [
    "System.out.println(cityArray[0]);\n",
    "System.out.println(cityArray[2]);"
   ]
  },
  {
   "cell_type": "code",
   "execution_count": 3,
   "metadata": {
    "vscode": {
     "languageId": "java"
    }
   },
   "outputs": [
    {
     "data": {
      "text/plain": [
       "San Jose"
      ]
     },
     "execution_count": 3,
     "metadata": {},
     "output_type": "execute_result"
    }
   ],
   "source": [
    "cityArray[1] = \"Sacramento\";\n",
    "cityArray[3] = \"San Jose\";"
   ]
  },
  {
   "cell_type": "code",
   "execution_count": 4,
   "metadata": {
    "vscode": {
     "languageId": "java"
    }
   },
   "outputs": [
    {
     "name": "stdout",
     "output_type": "stream",
     "text": [
      "4\n"
     ]
    }
   ],
   "source": [
    "System.out.println(cityArray.length);"
   ]
  },
  {
   "cell_type": "markdown",
   "metadata": {},
   "source": [
    "6.1 Popcorn Hack #2"
   ]
  },
  {
   "cell_type": "code",
   "execution_count": 5,
   "metadata": {
    "vscode": {
     "languageId": "java"
    }
   },
   "outputs": [
    {
     "name": "stdout",
     "output_type": "stream",
     "text": [
      "0\n",
      "null\n",
      "0.0\n",
      "false\n"
     ]
    }
   ],
   "source": [
    "public class DefaultValuesArray {\n",
    "    public static void main(String[] args) {\n",
    "        int[] gojo = new int[4]; \n",
    "        String[] skibid = new String[4];\n",
    "        double[] sigma = new double[4]; \n",
    "        boolean[] idk = new boolean[4]; \n",
    "\n",
    "        System.out.println(gojo[1]);\n",
    "        System.out.println(skibid[1]);\n",
    "        System.out.println(sigma[1]);\n",
    "        System.out.println(idk[1]);\n",
    "    }\n",
    "}\n",
    "\n",
    "DefaultValuesArray.main(null)\n"
   ]
  },
  {
   "cell_type": "markdown",
   "metadata": {},
   "source": [
    "___\n",
    "The correct choice is D. \n",
    "\n",
    "arr[arr.length - 3].indexOf(find).\n",
    "\n",
    "arr[arr.length - 3] accesses the string at the third-to-last position in the array (because arrays are zero-indexed).\n",
    "\n",
    "\n",
    "___\n",
    "\n",
    "The correct choice is B:\n",
    "\n",
    "The method mystery takes an array, and the code calculates:\n",
    "return arr[1] + arr[4] / 2;\n",
    "\n",
    "arr[1] = 9\n",
    "arr[4] = 6\n",
    "\n",
    "9 + 6/2 = 12\n",
    "\n",
    "\n",
    "___"
   ]
  },
  {
   "cell_type": "markdown",
   "metadata": {},
   "source": [
    "6.2 Popcorn Hack #1"
   ]
  },
  {
   "cell_type": "code",
   "execution_count": 6,
   "metadata": {
    "vscode": {
     "languageId": "java"
    }
   },
   "outputs": [
    {
     "name": "stdout",
     "output_type": "stream",
     "text": [
      "6\n"
     ]
    }
   ],
   "source": [
    "public class thingy {\n",
    "    public static int sumOfEvenNumbers(int[] arr) {\n",
    "        int sum = 0; \n",
    "        for (int num : arr) {\n",
    "            if (num % 2 == 0) {\n",
    "                sum += num;\n",
    "            }\n",
    "        }\n",
    "        \n",
    "        return sum;\n",
    "    }\n",
    "    \n",
    "    public static void main(String[] args) {\n",
    "        int[] arr = {1, 2, 3, 4, 5};\n",
    "        System.out.println(sumOfEvenNumbers(arr)); // Output: 6\n",
    "    }    \n",
    "}\n",
    "\n",
    "thingy.main(null)\n"
   ]
  },
  {
   "cell_type": "markdown",
   "metadata": {},
   "source": [
    "6.2 Popcorn Hack #2"
   ]
  },
  {
   "cell_type": "code",
   "execution_count": 7,
   "metadata": {
    "vscode": {
     "languageId": "java"
    }
   },
   "outputs": [
    {
     "name": "stdout",
     "output_type": "stream",
     "text": [
      "3\n"
     ]
    }
   ],
   "source": [
    "public class thingy {\n",
    "    public static int countOccurrences(int[] arr, int target) {\n",
    "        int count = 0; // Start with no occurrences\n",
    "        \n",
    "        // Begin the journey through the array\n",
    "        for (int num : arr) {\n",
    "            // Whenever the target number is found, increase the count\n",
    "            if (num == target) {\n",
    "                count++;\n",
    "            }\n",
    "        }\n",
    "        \n",
    "        return count; // Return the number of times the target was encountered\n",
    "    }\n",
    "    \n",
    "    // Example usage:\n",
    "    public static void main(String[] args) {\n",
    "        int[] arr = {3, 5, 3, 3, 7, 5};\n",
    "        int target = 3;\n",
    "        System.out.println(countOccurrences(arr, target)); // Output: 3\n",
    "    }\n",
    "    \n",
    "}\n",
    "\n",
    "thingy.main(null)\n",
    "\n"
   ]
  },
  {
   "cell_type": "markdown",
   "metadata": {},
   "source": [
    "6.2 Popcorn Hack #3"
   ]
  },
  {
   "cell_type": "code",
   "execution_count": 8,
   "metadata": {
    "vscode": {
     "languageId": "java"
    }
   },
   "outputs": [
    {
     "name": "stdout",
     "output_type": "stream",
     "text": [
      "2\n"
     ]
    }
   ],
   "source": [
    "public class skib {\n",
    "    public static int firstNegativeIndex(int[] arr) {\n",
    "        int i = 0; \n",
    "        while (i < arr.length) {\n",
    "            if (arr[i] < 0) {\n",
    "                return i;\n",
    "            }\n",
    "            i++; \n",
    "        }\n",
    "        \n",
    "        return -1;\n",
    "    }\n",
    "    \n",
    "    // Example usage:\n",
    "    public static void main(String[] args) {\n",
    "        int[] arr = {4, 7, -2, 5};\n",
    "        System.out.println(firstNegativeIndex(arr));\n",
    "    }\n",
    "}\n",
    "\n",
    "skib.main(null)\n"
   ]
  },
  {
   "cell_type": "markdown",
   "metadata": {},
   "source": [
    "6.2 MCQ Questions"
   ]
  },
  {
   "cell_type": "markdown",
   "metadata": {},
   "source": [
    "C\n",
    "\n",
    "The code loops through the list, and prints out the length of each item seperated by a _, so it would be 3_6_4_\n",
    "\n",
    "___\n",
    "E\n",
    "\n",
    "int i = 0; i < numbers.length; i+=2\n",
    "\n",
    "The initial starts at the first (0th term) term, and then while the iteration is less than the number of items in the list, increment by two.\n",
    "\n",
    "___\n",
    "\n",
    "B\n",
    "\n",
    "i < arr.length / 2\n",
    "\n",
    "This condition ensures the loop only runs for the first half of the array, swapping elements between the start and the end. More than that it just reverses it a second time."
   ]
  },
  {
   "cell_type": "markdown",
   "metadata": {},
   "source": [
    "6.3 Homework Hack"
   ]
  },
  {
   "cell_type": "code",
   "execution_count": 9,
   "metadata": {
    "vscode": {
     "languageId": "java"
    }
   },
   "outputs": [
    {
     "name": "stdout",
     "output_type": "stream",
     "text": [
      "6\n",
      "-2147483648\n"
     ]
    }
   ],
   "source": [
    "public class Main {\n",
    "\n",
    "    public static int findSecondLargest(int[] arr) {\n",
    "        if (arr == null || arr.length < 2) {\n",
    "            return -1; // Not enough elements to find the second largest\n",
    "        }\n",
    "\n",
    "        int largest = Integer.MIN_VALUE;\n",
    "        int secondLargest = Integer.MIN_VALUE;\n",
    "        boolean foundSecond = false;\n",
    "\n",
    "        for (int i = 0; i < arr.length; i++) {\n",
    "            if (arr[i] > largest) {\n",
    "                secondLargest = largest;\n",
    "                largest = arr[i];\n",
    "                foundSecond = true; // At least two different elements exist\n",
    "            } else if (arr[i] > secondLargest && arr[i] != largest) {\n",
    "                secondLargest = arr[i];\n",
    "                foundSecond = true;\n",
    "            }\n",
    "        }\n",
    "\n",
    "        return foundSecond ? secondLargest : -1;\n",
    "    }\n",
    "\n",
    "    public static void main(String[] args) {\n",
    "        int[] arr1 = {3, 1, 4, 1, 5, 9, 2, 6};\n",
    "        System.out.println(findSecondLargest(arr1)); // Output: 6\n",
    "\n",
    "        int[] arr2 = {10, 10, 10, 10};\n",
    "        System.out.println(findSecondLargest(arr2)); // Output: -1\n",
    "    }\n",
    "}\n",
    "\n",
    "Main.main(null)"
   ]
  },
  {
   "cell_type": "markdown",
   "metadata": {},
   "source": [
    "6.3 Popcorn Hack #1"
   ]
  },
  {
   "cell_type": "code",
   "execution_count": 10,
   "metadata": {
    "vscode": {
     "languageId": "java"
    }
   },
   "outputs": [
    {
     "name": "stdout",
     "output_type": "stream",
     "text": [
      "Java\n",
      "Python\n",
      "Markdown\n",
      "C++\n",
      "Go\n",
      "JavaScript\n",
      "HTML\n"
     ]
    }
   ],
   "source": [
    "String[] languages = {\"Java\", \"Python\", \"Markdown\", \"C++\", \"Go\", \"JavaScript\", \"HTML\"};\n",
    "\n",
    "for (String language : languages) {\n",
    "    System.out.println(language);\n",
    "}\n"
   ]
  },
  {
   "cell_type": "markdown",
   "metadata": {},
   "source": [
    "6.3 Popcorn Hack #2"
   ]
  },
  {
   "cell_type": "code",
   "execution_count": 11,
   "metadata": {
    "vscode": {
     "languageId": "java"
    }
   },
   "outputs": [
    {
     "name": "stdout",
     "output_type": "stream",
     "text": [
      "And\n",
      "Table\n",
      "Shirts\n",
      "Tea\n",
      "School Day\n"
     ]
    }
   ],
   "source": [
    "String[] myArray = {\"And\", \"Table\", \"Shirts\", \"Tea\", \"School Day\"};\n",
    "\n",
    "for (String currentWord : myArray) {\n",
    "    System.out.println(currentWord);\n",
    "}"
   ]
  },
  {
   "cell_type": "code",
   "execution_count": 12,
   "metadata": {
    "vscode": {
     "languageId": "java"
    }
   },
   "outputs": [
    {
     "name": "stdout",
     "output_type": "stream",
     "text": [
      "3\n",
      "5\n",
      "6\n",
      "3\n",
      "10\n"
     ]
    }
   ],
   "source": [
    "private String[] myArray = {\n",
    "    \"And\", \"Table\", \"Shirts\", \"Tea\", \"School Day\"\n",
    "};\n",
    "\n",
    "for (String currentWord : myArray) {\n",
    "    System.out.println(currentWord.length());\n",
    "}\n"
   ]
  },
  {
   "cell_type": "code",
   "execution_count": 13,
   "metadata": {
    "vscode": {
     "languageId": "java"
    }
   },
   "outputs": [
    {
     "name": "stdout",
     "output_type": "stream",
     "text": [
      "The letter 'a' is not found in \"And\".\n",
      "The letter 'a' is found in \"Table\" at index: 1\n",
      "The letter 'a' is not found in \"Shirts\".\n",
      "The letter 'a' is found in \"Tea\" at index: 2\n",
      "The letter 'a' is found in \"School Day\" at index: 8\n"
     ]
    }
   ],
   "source": [
    "String[] myArray = {\"And\", \"Table\", \"Shirts\", \"Tea\", \"School Day\"};\n",
    "\n",
    "for (String currentWord : myArray) {\n",
    "    int index = currentWord.indexOf('a');\n",
    "    if (index != -1) {\n",
    "        System.out.println(\"The letter 'a' is found in \\\"\" + currentWord + \"\\\" at index: \" + index);\n",
    "    } else {\n",
    "        System.out.println(\"The letter 'a' is not found in \\\"\" + currentWord + \"\\\".\");\n",
    "    }\n",
    "}\n"
   ]
  },
  {
   "cell_type": "code",
   "execution_count": 14,
   "metadata": {
    "vscode": {
     "languageId": "java"
    }
   },
   "outputs": [
    {
     "name": "stdout",
     "output_type": "stream",
     "text": [
      "Object 1\n",
      "Object 2\n",
      "Object 3\n",
      "Object 4\n",
      "Object 5\n"
     ]
    }
   ],
   "source": [
    "String[] myArray = {\"Object 1\", \"Object 2\", \"Object 3\", \"Object 4\", \"Object 5\"};\n",
    "\n",
    "for (String currentWord : myArray) { // Added type declaration\n",
    "    System.out.println(currentWord); // Corrected method call\n",
    "} // Removed unnecessary semicolon\n"
   ]
  },
  {
   "cell_type": "code",
   "execution_count": 15,
   "metadata": {
    "vscode": {
     "languageId": "java"
    }
   },
   "outputs": [
    {
     "name": "stdout",
     "output_type": "stream",
     "text": [
      "Enter a grade: "
     ]
    },
    {
     "ename": "EvalException",
     "evalue": "For input string: \"\"",
     "output_type": "error",
     "traceback": [
      "\u001b[1m\u001b[31m---------------------------------------------------------------------------\u001b[0m",
      "\u001b[1m\u001b[31mjava.lang.NumberFormatException: For input string: \"\"\u001b[0m",
      "\u001b[1m\u001b[31m\tat java.base/java.lang.NumberFormatException.forInputString(NumberFormatException.java:65)\u001b[0m",
      "\u001b[1m\u001b[31m\tat java.base/java.lang.Integer.parseInt(Integer.java:662)\u001b[0m",
      "\u001b[1m\u001b[31m\tat java.base/java.lang.Integer.parseInt(Integer.java:770)\u001b[0m",
      "\u001b[1m\u001b[31m\tat AverageGradeCalculator.main(#34:10)\u001b[0m",
      "\u001b[1m\u001b[31m\tat .(#35:1)\u001b[0m"
     ]
    }
   ],
   "source": [
    "public class AverageGradeCalculator {\n",
    "    public static void main(String[] args) {\n",
    "        // Array of initial grades\n",
    "        Integer[] grades = {88, 93, 55, 68, 77};\n",
    "\n",
    "        // Prompt user for a new grade\n",
    "        System.out.print(\"Enter a grade: \");\n",
    "        // Read the grade from the console\n",
    "        java.util.Scanner scanner = new java.util.Scanner(System.in);\n",
    "        int grade = Integer.parseInt(scanner.nextLine());\n",
    "\n",
    "        // Add the new grade to the array\n",
    "        grades = addGrade(grades, grade);\n",
    "\n",
    "        // Calculate the average\n",
    "        double average = calculateAverage(grades);\n",
    "\n",
    "        // Output the updated grades and the average\n",
    "        System.out.print(\"Updated Grades: \");\n",
    "        printGrades(grades);\n",
    "        System.out.println(\"Average Grade: \" + average);\n",
    "    }\n",
    "\n",
    "    // Method to add a new grade to the grades array\n",
    "    public static Integer[] addGrade(Integer[] grades, int newGrade) {\n",
    "        Integer[] newGrades = new Integer[grades.length + 1];\n",
    "        for (int i = 0; i < grades.length; i++) {\n",
    "            newGrades[i] = grades[i];\n",
    "        }\n",
    "        newGrades[newGrades.length - 1] = newGrade; // Add the new grade\n",
    "        return newGrades;\n",
    "    }\n",
    "\n",
    "    // Method to calculate the average of the grades\n",
    "    public static double calculateAverage(Integer[] grades) {\n",
    "        int sum = 0;\n",
    "        for (Integer currentGrade : grades) {\n",
    "            sum += currentGrade; // Add each grade to the sum\n",
    "        }\n",
    "        return (double) sum / grades.length; // Calculate the average\n",
    "    }\n",
    "\n",
    "    // Method to print the grades\n",
    "    public static void printGrades(Integer[] grades) {\n",
    "        for (int i = 0; i < grades.length; i++) {\n",
    "            System.out.print(grades[i]);\n",
    "            if (i < grades.length - 1) {\n",
    "                System.out.print(\", \"); // Print comma between grades\n",
    "            }\n",
    "        }\n",
    "        System.out.println(); // New line after printing all grades\n",
    "    }\n",
    "}\n",
    "\n",
    "AverageGradeCalculator.main(null)"
   ]
  },
  {
   "cell_type": "markdown",
   "metadata": {},
   "source": [
    "___\n",
    "6.4 Algorithms\n",
    "___"
   ]
  },
  {
   "cell_type": "markdown",
   "metadata": {},
   "source": [
    "6.4 Popcorn Hack #1"
   ]
  },
  {
   "cell_type": "code",
   "execution_count": 22,
   "metadata": {
    "vscode": {
     "languageId": "java"
    }
   },
   "outputs": [
    {
     "name": "stdout",
     "output_type": "stream",
     "text": [
      "Increase\n",
      "Increase\n",
      "Increase\n",
      "Maximum value: 12\n",
      "Minimum value: -1\n"
     ]
    }
   ],
   "source": [
    "public class MaxMinInArray {\n",
    "\n",
    "    public static void findMaxAndMin(int[] array) {\n",
    "       \n",
    "        if (array == null || array.length == 0) {\n",
    "            System.out.println(\"Array is empty\");\n",
    "            return;\n",
    "        }\n",
    "\n",
    "        int max = array[0];\n",
    "        int min = array[0];\n",
    "\n",
    "        // Loop to find max, min, and apply the \"Popcorn Hack\"\n",
    "        for (int i = 1; i < array.length; i++) {\n",
    "            // Popcorn Hack: If the current element is greater than the next element\n",
    "            if (i < array.length - 1 && array[i] > array[i + 1]) {\n",
    "                System.out.println(\"Increase\");\n",
    "            }\n",
    "            // Find maximum value\n",
    "            if (array[i] > max) {\n",
    "                max = array[i];  \n",
    "            }\n",
    "            // Find minimum value\n",
    "            if (array[i] < min) {\n",
    "                min = array[i];  \n",
    "            }\n",
    "        }\n",
    "\n",
    "        System.out.println(\"Maximum value: \" + max);\n",
    "        System.out.println(\"Minimum value: \" + min);\n",
    "    }\n",
    "\n",
    "    public static void main(String[] args) {\n",
    "     \n",
    "        int[] array = {3, 5, 7, 2, 8, -1, 4, 0, 12};\n",
    "\n",
    "        findMaxAndMin(array);\n",
    "    }\n",
    "}\n",
    "\n",
    "MaxMinInArray.main(null)\n"
   ]
  },
  {
   "cell_type": "markdown",
   "metadata": {},
   "source": [
    "6.4 HW Hack"
   ]
  },
  {
   "cell_type": "code",
   "execution_count": 24,
   "metadata": {
    "vscode": {
     "languageId": "java"
    }
   },
   "outputs": [
    {
     "name": "stdout",
     "output_type": "stream",
     "text": [
      "5\n",
      "4\n",
      "3\n",
      "2\n",
      "1\n",
      "0\n"
     ]
    }
   ],
   "source": [
    "public class ReverseArrayOutput {\n",
    "\n",
    "    public static void main(String[] args) {\n",
    "        Integer[] myArray = {0, 1, 2, 3, 4, 5};\n",
    "\n",
    "        for (int i = myArray.length - 1; i >= 0; i--) {\n",
    "            System.out.println(myArray[i]);\n",
    "        }\n",
    "    }\n",
    "}\n",
    "\n",
    "ReverseArrayOutput.main(null)\n"
   ]
  },
  {
   "cell_type": "code",
   "execution_count": 30,
   "metadata": {
    "vscode": {
     "languageId": "java"
    }
   },
   "outputs": [
    {
     "name": "stdout",
     "output_type": "stream",
     "text": [
      "alpha gamma "
     ]
    }
   ],
   "source": [
    "public class WordShifter {  \n",
    "    public static void main(String[] args) {\n",
    "        String[] words = {\"gamma\", \"beta\", \"alpha\", \"delta\"};\n",
    "        int shiftWord = 2;\n",
    "\n",
    "        // Shift the words in the array\n",
    "        for (int count = 0; count < shiftWord; count++) {\n",
    "            String temp = words[0];\n",
    "            for (int index = 0; index < words.length - 1; index++) {\n",
    "                words[index] = words[index + 1];\n",
    "            }\n",
    "            words[words.length - 1] = temp;\n",
    "        }\n",
    "\n",
    "        // Print \"alpha\" first, then \"gamma\"\n",
    "        for (int i = 0; i < words.length; i++) {\n",
    "            if (i % 2 == 0) { // Print words at even indices\n",
    "                System.out.print(words[i] + \" \");\n",
    "            }\n",
    "        }\n",
    "    }\n",
    "}\n",
    "\n",
    "WordShifter.main(null)\n"
   ]
  }
 ],
 "metadata": {
  "kernelspec": {
   "display_name": "Java",
   "language": "java",
   "name": "java"
  },
  "language_info": {
   "codemirror_mode": "java",
   "file_extension": ".jshell",
   "mimetype": "text/x-java-source",
   "name": "Java",
   "pygments_lexer": "java",
   "version": "11.0.24+8-post-Ubuntu-1ubuntu322.04"
  }
 },
 "nbformat": 4,
 "nbformat_minor": 2
}
